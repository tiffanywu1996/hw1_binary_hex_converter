{
 "cells": [
  {
   "cell_type": "code",
   "execution_count": 1,
   "id": "a581c6df",
   "metadata": {},
   "outputs": [],
   "source": [
    "def num_to_binary(enter_number):\n",
    "    binary = \"\"\n",
    "    for i in range(7, -1, -1):\n",
    "        if enter_number >= 2**i:\n",
    "            binary += \"1\"\n",
    "            enter_number -= 2**i\n",
    "        else:\n",
    "            binary += \"0\"\n",
    "    return binary\n",
    "\n",
    "def binary_to_hex(binary):\n",
    "    hex_digits = \"0123456789ABCDEF\"\n",
    "    hex_number = \"\"\n",
    "    for i in range(0, len(binary), 4):\n",
    "        nibble = binary[i:i+4]\n",
    "        hex_digit = hex_digits[int(nibble, 2)]\n",
    "        hex_number += hex_digit\n",
    "    return hex_number"
   ]
  },
  {
   "cell_type": "code",
   "execution_count": 4,
   "id": "db976e76",
   "metadata": {},
   "outputs": [
    {
     "name": "stdout",
     "output_type": "stream",
     "text": [
      "請輸入一個 0-255 的正整數(輸入-1退出):0\n",
      "二進位數字為:00000000, 十六進位數字為00\n",
      "請輸入一個 0-255 的正整數(輸入-1退出):234\n",
      "二進位數字為:11101010, 十六進位數字為EA\n",
      "請輸入一個 0-255 的正整數(輸入-1退出):56\n",
      "二進位數字為:00111000, 十六進位數字為38\n",
      "請輸入一個 0-255 的正整數(輸入-1退出):256\n",
      "數字不在範圍內，請再輸入一次\n",
      "請輸入一個 0-255 的正整數(輸入-1退出):a\n",
      "輸入錯誤，請輸入一個 0-255 的正整數\n",
      "請輸入一個 0-255 的正整數(輸入-1退出):-1\n"
     ]
    }
   ],
   "source": [
    "while True:\n",
    "    try:\n",
    "        enter_number = int(input(\"請輸入一個 0-255 的正整數(輸入-1退出):\"))\n",
    "        if enter_number == -1:\n",
    "            break\n",
    "        elif enter_number < 0 or enter_number > 255:\n",
    "            print(\"數字不在範圍內，請再輸入一次\")\n",
    "            continue\n",
    "        else:\n",
    "            binary = num_to_binary(enter_number)     \n",
    "            hex_number = binary_to_hex(binary)\n",
    "        print(f\"二進位數字為:{binary}, 十六進位數字為{hex_number}\") \n",
    "    except:\n",
    "        print(\"輸入錯誤，請輸入一個 0-255 的正整數\")\n",
    "        continue"
   ]
  },
  {
   "cell_type": "code",
   "execution_count": null,
   "id": "973f1a37",
   "metadata": {},
   "outputs": [],
   "source": []
  }
 ],
 "metadata": {
  "kernelspec": {
   "display_name": "Python 3 (ipykernel)",
   "language": "python",
   "name": "python3"
  },
  "language_info": {
   "codemirror_mode": {
    "name": "ipython",
    "version": 3
   },
   "file_extension": ".py",
   "mimetype": "text/x-python",
   "name": "python",
   "nbconvert_exporter": "python",
   "pygments_lexer": "ipython3",
   "version": "3.11.5"
  }
 },
 "nbformat": 4,
 "nbformat_minor": 5
}
